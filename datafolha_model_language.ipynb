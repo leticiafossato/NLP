{
 "cells": [
  {
   "cell_type": "code",
   "execution_count": 14,
   "metadata": {
    "ExecuteTime": {
     "end_time": "2021-08-03T16:18:08.224158Z",
     "start_time": "2021-08-03T16:18:08.204746Z"
    }
   },
   "outputs": [],
   "source": [
    "import numpy as np\n",
    "import os\n",
    "import re\n",
    "import itertools\n",
    "import collections\n",
    "import tqdm\n",
    "import re\n",
    "from collections import defaultdict\n",
    "import random\n",
    "import string"
   ]
  },
  {
   "cell_type": "markdown",
   "metadata": {},
   "source": [
    "# Treino"
   ]
  },
  {
   "cell_type": "code",
   "execution_count": 15,
   "metadata": {
    "ExecuteTime": {
     "end_time": "2021-08-03T16:18:08.255331Z",
     "start_time": "2021-08-03T16:18:08.248347Z"
    }
   },
   "outputs": [],
   "source": [
    "def open_arquivo(arquivos):\n",
    "    corpus=''\n",
    "    for nome in arquivos:\n",
    "        with open('./CHAVEFolha/folha95/' + nome, 'r',encoding='iso-8859-1') as f:\n",
    "            corpus = corpus + f.read()\n",
    "    return corpus"
   ]
  },
  {
   "cell_type": "code",
   "execution_count": 16,
   "metadata": {
    "ExecuteTime": {
     "end_time": "2021-08-03T16:18:08.271363Z",
     "start_time": "2021-08-03T16:18:08.256328Z"
    }
   },
   "outputs": [],
   "source": [
    "def regex_extracao(corpus):\n",
    "    \"\"\"\n",
    "    Input: string\n",
    "    Output: listas de strings\"\"\"\n",
    "    pattern = r\"<TEXT>(.*?)</TEXT>\"\n",
    "    corpus = re.sub('\\n','',corpus)\n",
    "    search = re.findall(pattern, corpus, flags=0)\n",
    "    return search"
   ]
  },
  {
   "cell_type": "code",
   "execution_count": 17,
   "metadata": {
    "ExecuteTime": {
     "end_time": "2021-08-03T16:18:08.287207Z",
     "start_time": "2021-08-03T16:18:08.273026Z"
    }
   },
   "outputs": [],
   "source": [
    "def pre_processamento(search):\n",
    "    \"\"\"\n",
    "    Input:  listas de strings\n",
    "    Output: string em lower case e sem pontuações\"\"\"\n",
    "    texto=''\n",
    "    for i in search:\n",
    "        i= re.sub('[!\"#$%&\\'()*+,-:;=?@[\\\\]^_`{|}~º]','', i)\n",
    "        i= re.sub('[0123456789]','', i)\n",
    "        i= re.sub('\\x96','', i)\n",
    "        i= re.sub(r'\\s([?.!\"](?:\\s|$))', r'\\1', i)\n",
    "        i=i.strip()\n",
    "        i = re.sub('\\.(?!$)', ' <s> <s> </s> </s> ', i)\n",
    "        new = \" <s> <s> \" + i + \" </s> </s> \"\n",
    "        texto=texto+new\n",
    "    return texto.lower().strip(' ')"
   ]
  },
  {
   "cell_type": "code",
   "execution_count": 18,
   "metadata": {
    "ExecuteTime": {
     "end_time": "2021-08-03T16:18:08.303248Z",
     "start_time": "2021-08-03T16:18:08.288204Z"
    }
   },
   "outputs": [],
   "source": [
    "def tokenizacao(search):\n",
    "    \"\"\"\n",
    "    Input:  string em lower case e sem pontuações\n",
    "    Output: lista de palavras\"\"\"\n",
    "    x=[]\n",
    "    for i in search.split(' '):\n",
    "        if i!='':\n",
    "            x.append(i)\n",
    "    return x"
   ]
  },
  {
   "cell_type": "code",
   "execution_count": 19,
   "metadata": {
    "ExecuteTime": {
     "end_time": "2021-08-03T16:18:08.318272Z",
     "start_time": "2021-08-03T16:18:08.304167Z"
    }
   },
   "outputs": [],
   "source": [
    "def generate_ngrams(tokens, n):\n",
    "    ngrams = zip(*[tokens[i:] for i in range(n)])\n",
    "    return [\" \".join(ngram) for ngram in ngrams]"
   ]
  },
  {
   "cell_type": "code",
   "execution_count": 20,
   "metadata": {
    "ExecuteTime": {
     "end_time": "2021-08-03T16:18:08.334327Z",
     "start_time": "2021-08-03T16:18:08.319218Z"
    }
   },
   "outputs": [],
   "source": [
    "def unk_selection(token):\n",
    "    unk_selection=[]\n",
    "    words=list(set(token))\n",
    "    for a in range(15):\n",
    "        unk_selection.append(random.choice(words))\n",
    "    x=[]\n",
    "    for i in token:\n",
    "        if i in list(unk_selection):\n",
    "            x.append('<unk>')\n",
    "        else:\n",
    "            x.append(i)\n",
    "    print('Palavras substituídas por <unk>:',unk_selection)\n",
    "    return x"
   ]
  },
  {
   "cell_type": "code",
   "execution_count": 21,
   "metadata": {
    "ExecuteTime": {
     "end_time": "2021-08-03T16:18:51.099193Z",
     "start_time": "2021-08-03T16:18:08.335175Z"
    }
   },
   "outputs": [
    {
     "name": "stdout",
     "output_type": "stream",
     "text": [
      "Palavras substituídas por <unk>: ['contrabaixo', 'opcode', 'roupagens', 'pesetas', 'sublimatórias', 'civilpresidente', 'cyclone', 'codex', 'observatory', 'shin', 'paulistério', 'telefonemasno', 'anterioros', 'publicrelations', 'esboçar']\n"
     ]
    }
   ],
   "source": [
    "arquivos   = list(os.walk('./CHAVEFolha/folha95/'))[0][2]\n",
    "arquivos   = arquivos[:100]\n",
    "corpus     = open_arquivo(arquivos)\n",
    "search     = regex_extracao(corpus)\n",
    "texto      = pre_processamento(search)\n",
    "tokens     = tokenizacao(texto)\n",
    "tokens     = unk_selection(tokens)\n",
    "vocabulary = list(set(tokens))"
   ]
  },
  {
   "cell_type": "code",
   "execution_count": 22,
   "metadata": {
    "ExecuteTime": {
     "end_time": "2021-08-03T16:18:51.115183Z",
     "start_time": "2021-08-03T16:18:51.102287Z"
    }
   },
   "outputs": [
    {
     "name": "stdout",
     "output_type": "stream",
     "text": [
      "Quantidade de palavras diferentes da folha95: 206961\n",
      "Quantidade de palavras total da folha95     : 4819014\n"
     ]
    }
   ],
   "source": [
    "print('Quantidade de palavras diferentes da folha95:',   len(vocabulary))\n",
    "print('Quantidade de palavras total da folha95     :',     len((tokens)))"
   ]
  },
  {
   "cell_type": "code",
   "execution_count": 23,
   "metadata": {
    "ExecuteTime": {
     "end_time": "2021-08-03T16:18:51.130113Z",
     "start_time": "2021-08-03T16:18:51.117173Z"
    }
   },
   "outputs": [],
   "source": [
    "def n_gram(text, n):\n",
    "    split = text.split()\n",
    "    grams = [split[i:] for i in range(n)]\n",
    "    return zip(*grams)"
   ]
  },
  {
   "cell_type": "code",
   "execution_count": 24,
   "metadata": {
    "ExecuteTime": {
     "end_time": "2021-08-03T16:18:54.750518Z",
     "start_time": "2021-08-03T16:18:51.132137Z"
    }
   },
   "outputs": [
    {
     "data": {
      "application/javascript": [
       "\n",
       "        if (window._pyforest_update_imports_cell) { window._pyforest_update_imports_cell('import pandas as pd'); }\n",
       "    "
      ],
      "text/plain": [
       "<IPython.core.display.Javascript object>"
      ]
     },
     "metadata": {},
     "output_type": "display_data"
    },
    {
     "data": {
      "application/javascript": [
       "\n",
       "        if (window._pyforest_update_imports_cell) { window._pyforest_update_imports_cell('import pandas as pd'); }\n",
       "    "
      ],
      "text/plain": [
       "<IPython.core.display.Javascript object>"
      ]
     },
     "metadata": {},
     "output_type": "display_data"
    },
    {
     "data": {
      "application/javascript": [
       "\n",
       "        if (window._pyforest_update_imports_cell) { window._pyforest_update_imports_cell('import pandas as pd'); }\n",
       "    "
      ],
      "text/plain": [
       "<IPython.core.display.Javascript object>"
      ]
     },
     "metadata": {},
     "output_type": "display_data"
    }
   ],
   "source": [
    "df3 = pd.DataFrame (generate_ngrams(tokens, 3),columns=['3-Gram'])\n",
    "df2 = pd.DataFrame (generate_ngrams(tokens, 2),columns=['2-Gram'])\n",
    "df1 = pd.DataFrame (generate_ngrams(tokens, 1),columns=['1-Gram'])"
   ]
  },
  {
   "cell_type": "code",
   "execution_count": 25,
   "metadata": {
    "ExecuteTime": {
     "end_time": "2021-08-03T16:18:54.765301Z",
     "start_time": "2021-08-03T16:18:54.753375Z"
    }
   },
   "outputs": [
    {
     "data": {
      "text/html": [
       "<div>\n",
       "<style scoped>\n",
       "    .dataframe tbody tr th:only-of-type {\n",
       "        vertical-align: middle;\n",
       "    }\n",
       "\n",
       "    .dataframe tbody tr th {\n",
       "        vertical-align: top;\n",
       "    }\n",
       "\n",
       "    .dataframe thead th {\n",
       "        text-align: right;\n",
       "    }\n",
       "</style>\n",
       "<table border=\"1\" class=\"dataframe\">\n",
       "  <thead>\n",
       "    <tr style=\"text-align: right;\">\n",
       "      <th></th>\n",
       "      <th>3-Gram</th>\n",
       "    </tr>\n",
       "  </thead>\n",
       "  <tbody>\n",
       "    <tr>\n",
       "      <th>0</th>\n",
       "      <td>&lt;s&gt; &lt;s&gt; datafolha</td>\n",
       "    </tr>\n",
       "    <tr>\n",
       "      <th>1</th>\n",
       "      <td>&lt;s&gt; datafolha revela</td>\n",
       "    </tr>\n",
       "    <tr>\n",
       "      <th>2</th>\n",
       "      <td>datafolha revela que</td>\n",
       "    </tr>\n",
       "    <tr>\n",
       "      <th>3</th>\n",
       "      <td>revela que esperam</td>\n",
       "    </tr>\n",
       "    <tr>\n",
       "      <th>4</th>\n",
       "      <td>que esperam governo</td>\n",
       "    </tr>\n",
       "    <tr>\n",
       "      <th>5</th>\n",
       "      <td>esperam governo ótimo</td>\n",
       "    </tr>\n",
       "    <tr>\n",
       "      <th>6</th>\n",
       "      <td>governo ótimo ou</td>\n",
       "    </tr>\n",
       "    <tr>\n",
       "      <th>7</th>\n",
       "      <td>ótimo ou bom</td>\n",
       "    </tr>\n",
       "    <tr>\n",
       "      <th>8</th>\n",
       "      <td>ou bom collor</td>\n",
       "    </tr>\n",
       "    <tr>\n",
       "      <th>9</th>\n",
       "      <td>bom collor teve</td>\n",
       "    </tr>\n",
       "    <tr>\n",
       "      <th>10</th>\n",
       "      <td>collor teve antes</td>\n",
       "    </tr>\n",
       "    <tr>\n",
       "      <th>11</th>\n",
       "      <td>teve antes de</td>\n",
       "    </tr>\n",
       "    <tr>\n",
       "      <th>12</th>\n",
       "      <td>antes de assumir</td>\n",
       "    </tr>\n",
       "    <tr>\n",
       "      <th>13</th>\n",
       "      <td>de assumir a</td>\n",
       "    </tr>\n",
       "    <tr>\n",
       "      <th>14</th>\n",
       "      <td>assumir a presidência</td>\n",
       "    </tr>\n",
       "  </tbody>\n",
       "</table>\n",
       "</div>"
      ],
      "text/plain": [
       "                   3-Gram\n",
       "0       <s> <s> datafolha\n",
       "1    <s> datafolha revela\n",
       "2    datafolha revela que\n",
       "3      revela que esperam\n",
       "4     que esperam governo\n",
       "5   esperam governo ótimo\n",
       "6        governo ótimo ou\n",
       "7            ótimo ou bom\n",
       "8           ou bom collor\n",
       "9         bom collor teve\n",
       "10      collor teve antes\n",
       "11          teve antes de\n",
       "12       antes de assumir\n",
       "13           de assumir a\n",
       "14  assumir a presidência"
      ]
     },
     "execution_count": 25,
     "metadata": {},
     "output_type": "execute_result"
    }
   ],
   "source": [
    "df3.head(15)"
   ]
  },
  {
   "cell_type": "code",
   "execution_count": 26,
   "metadata": {
    "ExecuteTime": {
     "end_time": "2021-08-03T16:21:58.066574Z",
     "start_time": "2021-08-03T16:18:54.767294Z"
    }
   },
   "outputs": [],
   "source": [
    "df3 = df3['3-Gram'].value_counts().rename_axis('3-Gram').to_frame('contagem').reset_index()\n",
    "df2 = df2['2-Gram'].value_counts().rename_axis('2-Gram').to_frame('contagem').reset_index()\n",
    "df1 = df1['1-Gram'].value_counts().rename_axis('1-Gram').to_frame('contagem').reset_index()\n",
    "\n",
    "df1_dict = df1.set_index('1-Gram').T.to_dict('list')\n",
    "df2_dict = df2.set_index('2-Gram').T.to_dict('list')\n",
    "df3_dict = df3.set_index('3-Gram').T.to_dict('list')"
   ]
  },
  {
   "cell_type": "code",
   "execution_count": 27,
   "metadata": {
    "ExecuteTime": {
     "end_time": "2021-08-03T16:21:58.407766Z",
     "start_time": "2021-08-03T16:21:58.068569Z"
    }
   },
   "outputs": [
    {
     "data": {
      "text/html": [
       "<div>\n",
       "<style scoped>\n",
       "    .dataframe tbody tr th:only-of-type {\n",
       "        vertical-align: middle;\n",
       "    }\n",
       "\n",
       "    .dataframe tbody tr th {\n",
       "        vertical-align: top;\n",
       "    }\n",
       "\n",
       "    .dataframe thead th {\n",
       "        text-align: right;\n",
       "    }\n",
       "</style>\n",
       "<table border=\"1\" class=\"dataframe\">\n",
       "  <thead>\n",
       "    <tr style=\"text-align: right;\">\n",
       "      <th></th>\n",
       "      <th>3-Gram</th>\n",
       "      <th>contagem</th>\n",
       "    </tr>\n",
       "  </thead>\n",
       "  <tbody>\n",
       "    <tr>\n",
       "      <th>0</th>\n",
       "      <td>&lt;/s&gt; &lt;s&gt; &lt;s&gt;</td>\n",
       "      <td>14301</td>\n",
       "    </tr>\n",
       "    <tr>\n",
       "      <th>1</th>\n",
       "      <td>&lt;/s&gt; &lt;/s&gt; &lt;s&gt;</td>\n",
       "      <td>14301</td>\n",
       "    </tr>\n",
       "    <tr>\n",
       "      <th>2</th>\n",
       "      <td>&lt;s&gt; &lt;s&gt; da</td>\n",
       "      <td>2972</td>\n",
       "    </tr>\n",
       "    <tr>\n",
       "      <th>3</th>\n",
       "      <td>de são paulo</td>\n",
       "      <td>2926</td>\n",
       "    </tr>\n",
       "    <tr>\n",
       "      <th>4</th>\n",
       "      <td>da reportagem local</td>\n",
       "      <td>2681</td>\n",
       "    </tr>\n",
       "    <tr>\n",
       "      <th>5</th>\n",
       "      <td>sucursal de brasília</td>\n",
       "      <td>1360</td>\n",
       "    </tr>\n",
       "    <tr>\n",
       "      <th>6</th>\n",
       "      <td>da sucursal de</td>\n",
       "      <td>1358</td>\n",
       "    </tr>\n",
       "    <tr>\n",
       "      <th>7</th>\n",
       "      <td>&lt;s&gt; da reportagem</td>\n",
       "      <td>1273</td>\n",
       "    </tr>\n",
       "    <tr>\n",
       "      <th>8</th>\n",
       "      <td>em são paulo</td>\n",
       "      <td>1260</td>\n",
       "    </tr>\n",
       "    <tr>\n",
       "      <th>9</th>\n",
       "      <td>que o governo</td>\n",
       "      <td>1252</td>\n",
       "    </tr>\n",
       "    <tr>\n",
       "      <th>10</th>\n",
       "      <td>fernando henrique cardoso</td>\n",
       "      <td>1177</td>\n",
       "    </tr>\n",
       "    <tr>\n",
       "      <th>11</th>\n",
       "      <td>&lt;s&gt; &lt;s&gt; o</td>\n",
       "      <td>1109</td>\n",
       "    </tr>\n",
       "    <tr>\n",
       "      <th>12</th>\n",
       "      <td>presidente fernando henrique</td>\n",
       "      <td>1023</td>\n",
       "    </tr>\n",
       "    <tr>\n",
       "      <th>13</th>\n",
       "      <td>a partir de</td>\n",
       "      <td>979</td>\n",
       "    </tr>\n",
       "    <tr>\n",
       "      <th>14</th>\n",
       "      <td>para a folha</td>\n",
       "      <td>871</td>\n",
       "    </tr>\n",
       "  </tbody>\n",
       "</table>\n",
       "</div>"
      ],
      "text/plain": [
       "                          3-Gram  contagem\n",
       "0                   </s> <s> <s>     14301\n",
       "1                  </s> </s> <s>     14301\n",
       "2                     <s> <s> da      2972\n",
       "3                   de são paulo      2926\n",
       "4            da reportagem local      2681\n",
       "5           sucursal de brasília      1360\n",
       "6                 da sucursal de      1358\n",
       "7              <s> da reportagem      1273\n",
       "8                   em são paulo      1260\n",
       "9                  que o governo      1252\n",
       "10     fernando henrique cardoso      1177\n",
       "11                     <s> <s> o      1109\n",
       "12  presidente fernando henrique      1023\n",
       "13                   a partir de       979\n",
       "14                  para a folha       871"
      ]
     },
     "execution_count": 27,
     "metadata": {},
     "output_type": "execute_result"
    }
   ],
   "source": [
    "df3.sort_values('contagem', ascending=False).head(15)"
   ]
  },
  {
   "cell_type": "code",
   "execution_count": 28,
   "metadata": {
    "ExecuteTime": {
     "end_time": "2021-08-03T16:21:58.580616Z",
     "start_time": "2021-08-03T16:21:58.410654Z"
    }
   },
   "outputs": [
    {
     "data": {
      "text/html": [
       "<div>\n",
       "<style scoped>\n",
       "    .dataframe tbody tr th:only-of-type {\n",
       "        vertical-align: middle;\n",
       "    }\n",
       "\n",
       "    .dataframe tbody tr th {\n",
       "        vertical-align: top;\n",
       "    }\n",
       "\n",
       "    .dataframe thead th {\n",
       "        text-align: right;\n",
       "    }\n",
       "</style>\n",
       "<table border=\"1\" class=\"dataframe\">\n",
       "  <thead>\n",
       "    <tr style=\"text-align: right;\">\n",
       "      <th></th>\n",
       "      <th>2-Gram</th>\n",
       "      <th>contagem</th>\n",
       "    </tr>\n",
       "  </thead>\n",
       "  <tbody>\n",
       "    <tr>\n",
       "      <th>0</th>\n",
       "      <td>&lt;/s&gt; &lt;/s&gt;</td>\n",
       "      <td>14302</td>\n",
       "    </tr>\n",
       "    <tr>\n",
       "      <th>1</th>\n",
       "      <td>&lt;s&gt; &lt;s&gt;</td>\n",
       "      <td>14302</td>\n",
       "    </tr>\n",
       "    <tr>\n",
       "      <th>2</th>\n",
       "      <td>&lt;/s&gt; &lt;s&gt;</td>\n",
       "      <td>14301</td>\n",
       "    </tr>\n",
       "    <tr>\n",
       "      <th>3</th>\n",
       "      <td>que o</td>\n",
       "      <td>11577</td>\n",
       "    </tr>\n",
       "    <tr>\n",
       "      <th>4</th>\n",
       "      <td>que a</td>\n",
       "      <td>8098</td>\n",
       "    </tr>\n",
       "    <tr>\n",
       "      <th>5</th>\n",
       "      <td>com o</td>\n",
       "      <td>7333</td>\n",
       "    </tr>\n",
       "    <tr>\n",
       "      <th>6</th>\n",
       "      <td>para a</td>\n",
       "      <td>7052</td>\n",
       "    </tr>\n",
       "    <tr>\n",
       "      <th>7</th>\n",
       "      <td>com a</td>\n",
       "      <td>6981</td>\n",
       "    </tr>\n",
       "    <tr>\n",
       "      <th>8</th>\n",
       "      <td>para o</td>\n",
       "      <td>6719</td>\n",
       "    </tr>\n",
       "    <tr>\n",
       "      <th>9</th>\n",
       "      <td>são paulo</td>\n",
       "      <td>6372</td>\n",
       "    </tr>\n",
       "    <tr>\n",
       "      <th>10</th>\n",
       "      <td>e o</td>\n",
       "      <td>6370</td>\n",
       "    </tr>\n",
       "    <tr>\n",
       "      <th>11</th>\n",
       "      <td>o que</td>\n",
       "      <td>6242</td>\n",
       "    </tr>\n",
       "    <tr>\n",
       "      <th>12</th>\n",
       "      <td>de um</td>\n",
       "      <td>6178</td>\n",
       "    </tr>\n",
       "    <tr>\n",
       "      <th>13</th>\n",
       "      <td>e a</td>\n",
       "      <td>5851</td>\n",
       "    </tr>\n",
       "    <tr>\n",
       "      <th>14</th>\n",
       "      <td>de uma</td>\n",
       "      <td>4993</td>\n",
       "    </tr>\n",
       "  </tbody>\n",
       "</table>\n",
       "</div>"
      ],
      "text/plain": [
       "       2-Gram  contagem\n",
       "0   </s> </s>     14302\n",
       "1     <s> <s>     14302\n",
       "2    </s> <s>     14301\n",
       "3       que o     11577\n",
       "4       que a      8098\n",
       "5       com o      7333\n",
       "6      para a      7052\n",
       "7       com a      6981\n",
       "8      para o      6719\n",
       "9   são paulo      6372\n",
       "10        e o      6370\n",
       "11      o que      6242\n",
       "12      de um      6178\n",
       "13        e a      5851\n",
       "14     de uma      4993"
      ]
     },
     "execution_count": 28,
     "metadata": {},
     "output_type": "execute_result"
    }
   ],
   "source": [
    "df2.sort_values('contagem', ascending=False).head(15)"
   ]
  },
  {
   "cell_type": "code",
   "execution_count": 29,
   "metadata": {
    "ExecuteTime": {
     "end_time": "2021-08-03T16:21:58.611824Z",
     "start_time": "2021-08-03T16:21:58.581929Z"
    }
   },
   "outputs": [
    {
     "data": {
      "text/html": [
       "<div>\n",
       "<style scoped>\n",
       "    .dataframe tbody tr th:only-of-type {\n",
       "        vertical-align: middle;\n",
       "    }\n",
       "\n",
       "    .dataframe tbody tr th {\n",
       "        vertical-align: top;\n",
       "    }\n",
       "\n",
       "    .dataframe thead th {\n",
       "        text-align: right;\n",
       "    }\n",
       "</style>\n",
       "<table border=\"1\" class=\"dataframe\">\n",
       "  <thead>\n",
       "    <tr style=\"text-align: right;\">\n",
       "      <th></th>\n",
       "      <th>1-Gram</th>\n",
       "      <th>contagem</th>\n",
       "    </tr>\n",
       "  </thead>\n",
       "  <tbody>\n",
       "    <tr>\n",
       "      <th>0</th>\n",
       "      <td>de</td>\n",
       "      <td>243610</td>\n",
       "    </tr>\n",
       "    <tr>\n",
       "      <th>1</th>\n",
       "      <td>a</td>\n",
       "      <td>158724</td>\n",
       "    </tr>\n",
       "    <tr>\n",
       "      <th>2</th>\n",
       "      <td>o</td>\n",
       "      <td>150448</td>\n",
       "    </tr>\n",
       "    <tr>\n",
       "      <th>3</th>\n",
       "      <td>e</td>\n",
       "      <td>116580</td>\n",
       "    </tr>\n",
       "    <tr>\n",
       "      <th>4</th>\n",
       "      <td>que</td>\n",
       "      <td>114307</td>\n",
       "    </tr>\n",
       "    <tr>\n",
       "      <th>5</th>\n",
       "      <td>do</td>\n",
       "      <td>97508</td>\n",
       "    </tr>\n",
       "    <tr>\n",
       "      <th>6</th>\n",
       "      <td>da</td>\n",
       "      <td>84147</td>\n",
       "    </tr>\n",
       "    <tr>\n",
       "      <th>7</th>\n",
       "      <td>em</td>\n",
       "      <td>64439</td>\n",
       "    </tr>\n",
       "    <tr>\n",
       "      <th>8</th>\n",
       "      <td>para</td>\n",
       "      <td>53815</td>\n",
       "    </tr>\n",
       "    <tr>\n",
       "      <th>9</th>\n",
       "      <td>é</td>\n",
       "      <td>44376</td>\n",
       "    </tr>\n",
       "    <tr>\n",
       "      <th>10</th>\n",
       "      <td>um</td>\n",
       "      <td>43943</td>\n",
       "    </tr>\n",
       "    <tr>\n",
       "      <th>11</th>\n",
       "      <td>com</td>\n",
       "      <td>43371</td>\n",
       "    </tr>\n",
       "    <tr>\n",
       "      <th>12</th>\n",
       "      <td>no</td>\n",
       "      <td>43295</td>\n",
       "    </tr>\n",
       "    <tr>\n",
       "      <th>13</th>\n",
       "      <td>os</td>\n",
       "      <td>41683</td>\n",
       "    </tr>\n",
       "    <tr>\n",
       "      <th>14</th>\n",
       "      <td>não</td>\n",
       "      <td>38534</td>\n",
       "    </tr>\n",
       "  </tbody>\n",
       "</table>\n",
       "</div>"
      ],
      "text/plain": [
       "   1-Gram  contagem\n",
       "0      de    243610\n",
       "1       a    158724\n",
       "2       o    150448\n",
       "3       e    116580\n",
       "4     que    114307\n",
       "5      do     97508\n",
       "6      da     84147\n",
       "7      em     64439\n",
       "8    para     53815\n",
       "9       é     44376\n",
       "10     um     43943\n",
       "11    com     43371\n",
       "12     no     43295\n",
       "13     os     41683\n",
       "14    não     38534"
      ]
     },
     "execution_count": 29,
     "metadata": {},
     "output_type": "execute_result"
    }
   ],
   "source": [
    "df1.sort_values('contagem', ascending=False).head(15)"
   ]
  },
  {
   "cell_type": "code",
   "execution_count": 30,
   "metadata": {
    "ExecuteTime": {
     "end_time": "2021-08-03T16:24:58.810442Z",
     "start_time": "2021-08-03T16:21:58.613781Z"
    }
   },
   "outputs": [],
   "source": [
    "x=[]\n",
    "for i in df3['3-Gram']:\n",
    "    x.append(i)\n",
    "result = map(str.split, x)\n",
    "df3['3-Gram_list'] = list(tuple(result))\n",
    "\n",
    "x=[]\n",
    "for i in range(df3.shape[0]):\n",
    "    x.append(df3['3-Gram_list'][i][-1])\n",
    "df3['palavra']=x\n",
    "\n",
    "x=[]\n",
    "for i in range(df3.shape[0]):\n",
    "    a=df3['3-Gram_list'][i][:2]\n",
    "    x.append(' '.join(a))\n",
    "df3['contexto'] =x    \n",
    "\n",
    "x=[]\n",
    "for i  in (df3['contexto']):\n",
    "    x.append(df2_dict[i][0])\n",
    "df3['C(contexto)'] =x\n",
    "\n",
    "x=[]\n",
    "for i,j in zip(df3['contagem'],df3['C(contexto)']):\n",
    "    x.append(i/j)\n",
    "df3['P(3-Gram)'] = x\n",
    "\n",
    "df3 = df3[['3-Gram','contagem','palavra','contexto','C(contexto)','P(3-Gram)']]"
   ]
  },
  {
   "cell_type": "code",
   "execution_count": 31,
   "metadata": {
    "ExecuteTime": {
     "end_time": "2021-08-03T16:25:01.195678Z",
     "start_time": "2021-08-03T16:24:58.812438Z"
    }
   },
   "outputs": [],
   "source": [
    "x=[]\n",
    "for i in df2['2-Gram']:\n",
    "    x.append(i)\n",
    "result = map(str.split, x)\n",
    "df2['2-Gram_list'] = list(tuple(result))"
   ]
  },
  {
   "cell_type": "code",
   "execution_count": 32,
   "metadata": {
    "ExecuteTime": {
     "end_time": "2021-08-03T16:26:21.886548Z",
     "start_time": "2021-08-03T16:25:01.198778Z"
    }
   },
   "outputs": [],
   "source": [
    "x=[]\n",
    "for i in range(df2.shape[0]):\n",
    "    x.append(df2['2-Gram_list'][i][-1])\n",
    "df2['palavra']=x\n",
    "\n",
    "x=[]\n",
    "for i in range(df2.shape[0]):\n",
    "    a=df2['2-Gram_list'][i][:1]\n",
    "    x.append(' '.join(a))\n",
    "df2['contexto'] =x    \n",
    "\n",
    "x=[]\n",
    "for i  in (df2['contexto']):\n",
    "    x.append(df1_dict[i][0])\n",
    "df2['C(contexto)'] =x\n",
    "\n",
    "\n",
    "x=[]\n",
    "for i,j in zip(df2['contagem'],df2['C(contexto)']):\n",
    "    x.append(i/j)\n",
    "df2['P(2-Gram)'] = x\n",
    "\n",
    "df2 = df2[['2-Gram','contagem','palavra','contexto','C(contexto)','P(2-Gram)']]"
   ]
  },
  {
   "cell_type": "code",
   "execution_count": 33,
   "metadata": {
    "ExecuteTime": {
     "end_time": "2021-08-03T16:26:21.978894Z",
     "start_time": "2021-08-03T16:26:21.888515Z"
    }
   },
   "outputs": [],
   "source": [
    "qtd_palavras_total = len(tokens)\n",
    "x=[]\n",
    "for i in df1['contagem']:\n",
    "    x.append(i/qtd_palavras_total)\n",
    "df1['P(1-Gram)'] = x"
   ]
  },
  {
   "cell_type": "code",
   "execution_count": 34,
   "metadata": {
    "ExecuteTime": {
     "end_time": "2021-08-03T16:26:21.994136Z",
     "start_time": "2021-08-03T16:26:21.980351Z"
    }
   },
   "outputs": [
    {
     "data": {
      "text/html": [
       "<div>\n",
       "<style scoped>\n",
       "    .dataframe tbody tr th:only-of-type {\n",
       "        vertical-align: middle;\n",
       "    }\n",
       "\n",
       "    .dataframe tbody tr th {\n",
       "        vertical-align: top;\n",
       "    }\n",
       "\n",
       "    .dataframe thead th {\n",
       "        text-align: right;\n",
       "    }\n",
       "</style>\n",
       "<table border=\"1\" class=\"dataframe\">\n",
       "  <thead>\n",
       "    <tr style=\"text-align: right;\">\n",
       "      <th></th>\n",
       "      <th>3-Gram</th>\n",
       "      <th>contagem</th>\n",
       "      <th>palavra</th>\n",
       "      <th>contexto</th>\n",
       "      <th>C(contexto)</th>\n",
       "      <th>P(3-Gram)</th>\n",
       "    </tr>\n",
       "  </thead>\n",
       "  <tbody>\n",
       "    <tr>\n",
       "      <th>0</th>\n",
       "      <td>&lt;/s&gt; &lt;s&gt; &lt;s&gt;</td>\n",
       "      <td>14301</td>\n",
       "      <td>&lt;s&gt;</td>\n",
       "      <td>&lt;/s&gt; &lt;s&gt;</td>\n",
       "      <td>14301</td>\n",
       "      <td>1.000000</td>\n",
       "    </tr>\n",
       "    <tr>\n",
       "      <th>1</th>\n",
       "      <td>&lt;/s&gt; &lt;/s&gt; &lt;s&gt;</td>\n",
       "      <td>14301</td>\n",
       "      <td>&lt;s&gt;</td>\n",
       "      <td>&lt;/s&gt; &lt;/s&gt;</td>\n",
       "      <td>14302</td>\n",
       "      <td>0.999930</td>\n",
       "    </tr>\n",
       "    <tr>\n",
       "      <th>2</th>\n",
       "      <td>&lt;s&gt; &lt;s&gt; da</td>\n",
       "      <td>2972</td>\n",
       "      <td>da</td>\n",
       "      <td>&lt;s&gt; &lt;s&gt;</td>\n",
       "      <td>14302</td>\n",
       "      <td>0.207803</td>\n",
       "    </tr>\n",
       "    <tr>\n",
       "      <th>3</th>\n",
       "      <td>de são paulo</td>\n",
       "      <td>2926</td>\n",
       "      <td>paulo</td>\n",
       "      <td>de são</td>\n",
       "      <td>3741</td>\n",
       "      <td>0.782144</td>\n",
       "    </tr>\n",
       "    <tr>\n",
       "      <th>4</th>\n",
       "      <td>da reportagem local</td>\n",
       "      <td>2681</td>\n",
       "      <td>local</td>\n",
       "      <td>da reportagem</td>\n",
       "      <td>2791</td>\n",
       "      <td>0.960588</td>\n",
       "    </tr>\n",
       "    <tr>\n",
       "      <th>...</th>\n",
       "      <td>...</td>\n",
       "      <td>...</td>\n",
       "      <td>...</td>\n",
       "      <td>...</td>\n",
       "      <td>...</td>\n",
       "      <td>...</td>\n",
       "    </tr>\n",
       "    <tr>\n",
       "      <th>3390789</th>\n",
       "      <td>ter realizado um</td>\n",
       "      <td>1</td>\n",
       "      <td>um</td>\n",
       "      <td>ter realizado</td>\n",
       "      <td>5</td>\n",
       "      <td>0.200000</td>\n",
       "    </tr>\n",
       "    <tr>\n",
       "      <th>3390790</th>\n",
       "      <td>novo pontífice se</td>\n",
       "      <td>1</td>\n",
       "      <td>se</td>\n",
       "      <td>novo pontífice</td>\n",
       "      <td>1</td>\n",
       "      <td>1.000000</td>\n",
       "    </tr>\n",
       "    <tr>\n",
       "      <th>3390791</th>\n",
       "      <td>bicudo as medidas</td>\n",
       "      <td>1</td>\n",
       "      <td>medidas</td>\n",
       "      <td>bicudo as</td>\n",
       "      <td>1</td>\n",
       "      <td>1.000000</td>\n",
       "    </tr>\n",
       "    <tr>\n",
       "      <th>3390792</th>\n",
       "      <td>deixar patente à</td>\n",
       "      <td>1</td>\n",
       "      <td>à</td>\n",
       "      <td>deixar patente</td>\n",
       "      <td>1</td>\n",
       "      <td>1.000000</td>\n",
       "    </tr>\n",
       "    <tr>\n",
       "      <th>3390793</th>\n",
       "      <td>essa suposta prioridade</td>\n",
       "      <td>1</td>\n",
       "      <td>prioridade</td>\n",
       "      <td>essa suposta</td>\n",
       "      <td>2</td>\n",
       "      <td>0.500000</td>\n",
       "    </tr>\n",
       "  </tbody>\n",
       "</table>\n",
       "<p>3390794 rows × 6 columns</p>\n",
       "</div>"
      ],
      "text/plain": [
       "                          3-Gram  contagem     palavra        contexto  \\\n",
       "0                   </s> <s> <s>     14301         <s>        </s> <s>   \n",
       "1                  </s> </s> <s>     14301         <s>       </s> </s>   \n",
       "2                     <s> <s> da      2972          da         <s> <s>   \n",
       "3                   de são paulo      2926       paulo          de são   \n",
       "4            da reportagem local      2681       local   da reportagem   \n",
       "...                          ...       ...         ...             ...   \n",
       "3390789         ter realizado um         1          um   ter realizado   \n",
       "3390790        novo pontífice se         1          se  novo pontífice   \n",
       "3390791        bicudo as medidas         1     medidas       bicudo as   \n",
       "3390792         deixar patente à         1           à  deixar patente   \n",
       "3390793  essa suposta prioridade         1  prioridade    essa suposta   \n",
       "\n",
       "         C(contexto)  P(3-Gram)  \n",
       "0              14301   1.000000  \n",
       "1              14302   0.999930  \n",
       "2              14302   0.207803  \n",
       "3               3741   0.782144  \n",
       "4               2791   0.960588  \n",
       "...              ...        ...  \n",
       "3390789            5   0.200000  \n",
       "3390790            1   1.000000  \n",
       "3390791            1   1.000000  \n",
       "3390792            1   1.000000  \n",
       "3390793            2   0.500000  \n",
       "\n",
       "[3390794 rows x 6 columns]"
      ]
     },
     "execution_count": 34,
     "metadata": {},
     "output_type": "execute_result"
    }
   ],
   "source": [
    "df3"
   ]
  },
  {
   "cell_type": "code",
   "execution_count": 35,
   "metadata": {
    "ExecuteTime": {
     "end_time": "2021-08-03T16:26:22.021640Z",
     "start_time": "2021-08-03T16:26:21.995265Z"
    }
   },
   "outputs": [
    {
     "data": {
      "text/html": [
       "<div>\n",
       "<style scoped>\n",
       "    .dataframe tbody tr th:only-of-type {\n",
       "        vertical-align: middle;\n",
       "    }\n",
       "\n",
       "    .dataframe tbody tr th {\n",
       "        vertical-align: top;\n",
       "    }\n",
       "\n",
       "    .dataframe thead th {\n",
       "        text-align: right;\n",
       "    }\n",
       "</style>\n",
       "<table border=\"1\" class=\"dataframe\">\n",
       "  <thead>\n",
       "    <tr style=\"text-align: right;\">\n",
       "      <th></th>\n",
       "      <th>2-Gram</th>\n",
       "      <th>contagem</th>\n",
       "      <th>palavra</th>\n",
       "      <th>contexto</th>\n",
       "      <th>C(contexto)</th>\n",
       "      <th>P(2-Gram)</th>\n",
       "    </tr>\n",
       "  </thead>\n",
       "  <tbody>\n",
       "    <tr>\n",
       "      <th>0</th>\n",
       "      <td>&lt;/s&gt; &lt;/s&gt;</td>\n",
       "      <td>14302</td>\n",
       "      <td>&lt;/s&gt;</td>\n",
       "      <td>&lt;/s&gt;</td>\n",
       "      <td>28604</td>\n",
       "      <td>0.500000</td>\n",
       "    </tr>\n",
       "    <tr>\n",
       "      <th>1</th>\n",
       "      <td>&lt;s&gt; &lt;s&gt;</td>\n",
       "      <td>14302</td>\n",
       "      <td>&lt;s&gt;</td>\n",
       "      <td>&lt;s&gt;</td>\n",
       "      <td>28604</td>\n",
       "      <td>0.500000</td>\n",
       "    </tr>\n",
       "    <tr>\n",
       "      <th>2</th>\n",
       "      <td>&lt;/s&gt; &lt;s&gt;</td>\n",
       "      <td>14301</td>\n",
       "      <td>&lt;s&gt;</td>\n",
       "      <td>&lt;/s&gt;</td>\n",
       "      <td>28604</td>\n",
       "      <td>0.499965</td>\n",
       "    </tr>\n",
       "    <tr>\n",
       "      <th>3</th>\n",
       "      <td>que o</td>\n",
       "      <td>11577</td>\n",
       "      <td>o</td>\n",
       "      <td>que</td>\n",
       "      <td>114307</td>\n",
       "      <td>0.101280</td>\n",
       "    </tr>\n",
       "    <tr>\n",
       "      <th>4</th>\n",
       "      <td>que a</td>\n",
       "      <td>8098</td>\n",
       "      <td>a</td>\n",
       "      <td>que</td>\n",
       "      <td>114307</td>\n",
       "      <td>0.070844</td>\n",
       "    </tr>\n",
       "    <tr>\n",
       "      <th>...</th>\n",
       "      <td>...</td>\n",
       "      <td>...</td>\n",
       "      <td>...</td>\n",
       "      <td>...</td>\n",
       "      <td>...</td>\n",
       "      <td>...</td>\n",
       "    </tr>\n",
       "    <tr>\n",
       "      <th>1565663</th>\n",
       "      <td>williamsa mclaren</td>\n",
       "      <td>1</td>\n",
       "      <td>mclaren</td>\n",
       "      <td>williamsa</td>\n",
       "      <td>1</td>\n",
       "      <td>1.000000</td>\n",
       "    </tr>\n",
       "    <tr>\n",
       "      <th>1565664</th>\n",
       "      <td>necessidade este</td>\n",
       "      <td>1</td>\n",
       "      <td>este</td>\n",
       "      <td>necessidade</td>\n",
       "      <td>678</td>\n",
       "      <td>0.001475</td>\n",
       "    </tr>\n",
       "    <tr>\n",
       "      <th>1565665</th>\n",
       "      <td>amaury foi</td>\n",
       "      <td>1</td>\n",
       "      <td>foi</td>\n",
       "      <td>amaury</td>\n",
       "      <td>24</td>\n",
       "      <td>0.041667</td>\n",
       "    </tr>\n",
       "    <tr>\n",
       "      <th>1565666</th>\n",
       "      <td>de sedadepois</td>\n",
       "      <td>1</td>\n",
       "      <td>sedadepois</td>\n",
       "      <td>de</td>\n",
       "      <td>243610</td>\n",
       "      <td>0.000004</td>\n",
       "    </tr>\n",
       "    <tr>\n",
       "      <th>1565667</th>\n",
       "      <td>apaga no</td>\n",
       "      <td>1</td>\n",
       "      <td>no</td>\n",
       "      <td>apaga</td>\n",
       "      <td>7</td>\n",
       "      <td>0.142857</td>\n",
       "    </tr>\n",
       "  </tbody>\n",
       "</table>\n",
       "<p>1565668 rows × 6 columns</p>\n",
       "</div>"
      ],
      "text/plain": [
       "                    2-Gram  contagem     palavra     contexto  C(contexto)  \\\n",
       "0                </s> </s>     14302        </s>         </s>        28604   \n",
       "1                  <s> <s>     14302         <s>          <s>        28604   \n",
       "2                 </s> <s>     14301         <s>         </s>        28604   \n",
       "3                    que o     11577           o          que       114307   \n",
       "4                    que a      8098           a          que       114307   \n",
       "...                    ...       ...         ...          ...          ...   \n",
       "1565663  williamsa mclaren         1     mclaren    williamsa            1   \n",
       "1565664   necessidade este         1        este  necessidade          678   \n",
       "1565665         amaury foi         1         foi       amaury           24   \n",
       "1565666      de sedadepois         1  sedadepois           de       243610   \n",
       "1565667           apaga no         1          no        apaga            7   \n",
       "\n",
       "         P(2-Gram)  \n",
       "0         0.500000  \n",
       "1         0.500000  \n",
       "2         0.499965  \n",
       "3         0.101280  \n",
       "4         0.070844  \n",
       "...            ...  \n",
       "1565663   1.000000  \n",
       "1565664   0.001475  \n",
       "1565665   0.041667  \n",
       "1565666   0.000004  \n",
       "1565667   0.142857  \n",
       "\n",
       "[1565668 rows x 6 columns]"
      ]
     },
     "execution_count": 35,
     "metadata": {},
     "output_type": "execute_result"
    }
   ],
   "source": [
    "df2"
   ]
  },
  {
   "cell_type": "markdown",
   "metadata": {},
   "source": [
    "# Teste"
   ]
  },
  {
   "cell_type": "code",
   "execution_count": 37,
   "metadata": {
    "ExecuteTime": {
     "end_time": "2021-08-03T16:29:02.169205Z",
     "start_time": "2021-08-03T16:29:02.143147Z"
    }
   },
   "outputs": [],
   "source": [
    "arquivos_teste = list(os.walk('./CHAVEFolha/folha94/'))[0][2]\n",
    "def open_arquivo_teste(arquivo):\n",
    "    corpus=''\n",
    "    with open('./CHAVEFolha/folha94/' + arquivo, 'r',encoding='iso-8859-1') as f:\n",
    "        corpus = corpus + f.read()\n",
    "    return corpus"
   ]
  },
  {
   "cell_type": "code",
   "execution_count": 38,
   "metadata": {
    "ExecuteTime": {
     "end_time": "2021-08-03T16:29:12.586393Z",
     "start_time": "2021-08-03T16:29:12.575927Z"
    }
   },
   "outputs": [],
   "source": [
    "def append_unk(tokens_teste):\n",
    "    x=[]\n",
    "    for i in tokens_teste:\n",
    "        if i not in list(vocabulary):\n",
    "            x.append('<unk>')\n",
    "        else:\n",
    "            x.append(i)\n",
    "    return x"
   ]
  },
  {
   "cell_type": "code",
   "execution_count": 39,
   "metadata": {
    "ExecuteTime": {
     "end_time": "2021-08-03T16:29:49.055121Z",
     "start_time": "2021-08-03T16:29:49.041134Z"
    }
   },
   "outputs": [],
   "source": [
    "def contagem_unknown(token_teste):\n",
    "    contagem_unk=0\n",
    "    for i in token_teste:\n",
    "        if i=='<unk>':\n",
    "            contagem_unk = contagem_unk+1\n",
    "    return contagem_unk"
   ]
  },
  {
   "cell_type": "code",
   "execution_count": 40,
   "metadata": {
    "ExecuteTime": {
     "end_time": "2021-08-03T16:30:26.018974Z",
     "start_time": "2021-08-03T16:30:26.005092Z"
    }
   },
   "outputs": [],
   "source": [
    "def calculo_metricas(trigrama, bigrama, unigrama,total):\n",
    "    prod=0\n",
    "    i=0\n",
    "    for trigrama, bigrama, unigrama in zip(trigrama, bigrama, unigrama):\n",
    "        try:\n",
    "            p3 = df3_dict[trigrama][0] / df2_dict[bigrama][0] \n",
    "        except KeyError:\n",
    "            p3 = 0.0\n",
    "        try:\n",
    "            p2 = df2_dict[bigrama][0] / df1_dict[unigrama][0] \n",
    "        except KeyError:\n",
    "            p2 = 0.0\n",
    "\n",
    "        p1 = df1_dict[unigrama][0] / total  \n",
    "\n",
    "        #print((p1,p2,p3))\n",
    "        prod = prod + np.log2(0.1*p1 + 0.2*p2 + 0.7*p3)\n",
    "        i=i+1\n",
    "        #print(prod)\n",
    "        \n",
    "    prob_total=(2**prod)\n",
    "    perplexidade = 1/((prob_total)**(1/i))\n",
    "    return {'prob_total':prob_total,'perplexidade':perplexidade}"
   ]
  },
  {
   "cell_type": "code",
   "execution_count": 44,
   "metadata": {
    "ExecuteTime": {
     "end_time": "2021-08-03T16:37:06.652169Z",
     "start_time": "2021-08-03T16:37:06.638155Z"
    }
   },
   "outputs": [
    {
     "data": {
      "text/plain": [
       "365"
      ]
     },
     "execution_count": 44,
     "metadata": {},
     "output_type": "execute_result"
    }
   ],
   "source": [
    "len(arquivos_teste)"
   ]
  },
  {
   "cell_type": "code",
   "execution_count": 47,
   "metadata": {
    "ExecuteTime": {
     "end_time": "2021-08-03T21:31:29.582863Z",
     "start_time": "2021-08-03T17:48:14.803325Z"
    }
   },
   "outputs": [
    {
     "name": "stdout",
     "output_type": "stream",
     "text": [
      "FSP.940101.sgml\n"
     ]
    },
    {
     "name": "stderr",
     "output_type": "stream",
     "text": [
      "<ipython-input-40-036ff8039f0a>:22: RuntimeWarning: divide by zero encountered in double_scalars\n",
      "  perplexidade = 1/((prob_total)**(1/i))\n"
     ]
    },
    {
     "name": "stdout",
     "output_type": "stream",
     "text": [
      "FSP.940102.sgml\n",
      "FSP.940103.sgml\n",
      "FSP.940104.sgml\n",
      "FSP.940105.sgml\n",
      "FSP.940106.sgml\n",
      "FSP.940107.sgml\n",
      "FSP.940108.sgml\n",
      "FSP.940109.sgml\n",
      "FSP.940110.sgml\n",
      "FSP.940111.sgml\n"
     ]
    },
    {
     "ename": "MemoryError",
     "evalue": "",
     "output_type": "error",
     "traceback": [
      "\u001b[1;31m---------------------------------------------------------------------------\u001b[0m",
      "\u001b[1;31mMemoryError\u001b[0m                               Traceback (most recent call last)",
      "\u001b[1;32m<ipython-input-47-9d082b6f8ebd>\u001b[0m in \u001b[0;36m<module>\u001b[1;34m\u001b[0m\n\u001b[0;32m     14\u001b[0m     \u001b[0mtexto_teste\u001b[0m  \u001b[1;33m=\u001b[0m \u001b[0mpre_processamento\u001b[0m\u001b[1;33m(\u001b[0m\u001b[0msearch_teste\u001b[0m\u001b[1;33m)\u001b[0m\u001b[1;33m\u001b[0m\u001b[1;33m\u001b[0m\u001b[0m\n\u001b[0;32m     15\u001b[0m     \u001b[0mtoken_teste\u001b[0m  \u001b[1;33m=\u001b[0m \u001b[0mtokenizacao\u001b[0m\u001b[1;33m(\u001b[0m\u001b[0mtexto_teste\u001b[0m\u001b[1;33m)\u001b[0m\u001b[1;33m\u001b[0m\u001b[1;33m\u001b[0m\u001b[0m\n\u001b[1;32m---> 16\u001b[1;33m     \u001b[0mtoken_teste\u001b[0m  \u001b[1;33m=\u001b[0m \u001b[0mappend_unk\u001b[0m\u001b[1;33m(\u001b[0m\u001b[0mtoken_teste\u001b[0m\u001b[1;33m)\u001b[0m\u001b[1;33m\u001b[0m\u001b[1;33m\u001b[0m\u001b[0m\n\u001b[0m\u001b[0;32m     17\u001b[0m     \u001b[0mtrigram_teste\u001b[0m \u001b[1;33m=\u001b[0m \u001b[0mgenerate_ngrams\u001b[0m\u001b[1;33m(\u001b[0m\u001b[0mtoken_teste\u001b[0m\u001b[1;33m,\u001b[0m \u001b[1;36m3\u001b[0m\u001b[1;33m)\u001b[0m\u001b[1;33m\u001b[0m\u001b[1;33m\u001b[0m\u001b[0m\n\u001b[0;32m     18\u001b[0m     \u001b[0mbigram_teste\u001b[0m  \u001b[1;33m=\u001b[0m \u001b[0mgenerate_ngrams\u001b[0m\u001b[1;33m(\u001b[0m\u001b[0mtoken_teste\u001b[0m\u001b[1;33m,\u001b[0m \u001b[1;36m2\u001b[0m\u001b[1;33m)\u001b[0m\u001b[1;33m\u001b[0m\u001b[1;33m\u001b[0m\u001b[0m\n",
      "\u001b[1;32m<ipython-input-38-383b6a54fc65>\u001b[0m in \u001b[0;36mappend_unk\u001b[1;34m(tokens_teste)\u001b[0m\n\u001b[0;32m      2\u001b[0m     \u001b[0mx\u001b[0m\u001b[1;33m=\u001b[0m\u001b[1;33m[\u001b[0m\u001b[1;33m]\u001b[0m\u001b[1;33m\u001b[0m\u001b[1;33m\u001b[0m\u001b[0m\n\u001b[0;32m      3\u001b[0m     \u001b[1;32mfor\u001b[0m \u001b[0mi\u001b[0m \u001b[1;32min\u001b[0m \u001b[0mtokens_teste\u001b[0m\u001b[1;33m:\u001b[0m\u001b[1;33m\u001b[0m\u001b[1;33m\u001b[0m\u001b[0m\n\u001b[1;32m----> 4\u001b[1;33m         \u001b[1;32mif\u001b[0m \u001b[0mi\u001b[0m \u001b[1;32mnot\u001b[0m \u001b[1;32min\u001b[0m \u001b[0mlist\u001b[0m\u001b[1;33m(\u001b[0m\u001b[0mvocabulary\u001b[0m\u001b[1;33m)\u001b[0m\u001b[1;33m:\u001b[0m\u001b[1;33m\u001b[0m\u001b[1;33m\u001b[0m\u001b[0m\n\u001b[0m\u001b[0;32m      5\u001b[0m             \u001b[0mx\u001b[0m\u001b[1;33m.\u001b[0m\u001b[0mappend\u001b[0m\u001b[1;33m(\u001b[0m\u001b[1;34m'<unk>'\u001b[0m\u001b[1;33m)\u001b[0m\u001b[1;33m\u001b[0m\u001b[1;33m\u001b[0m\u001b[0m\n\u001b[0;32m      6\u001b[0m         \u001b[1;32melse\u001b[0m\u001b[1;33m:\u001b[0m\u001b[1;33m\u001b[0m\u001b[1;33m\u001b[0m\u001b[0m\n",
      "\u001b[1;31mMemoryError\u001b[0m: "
     ]
    }
   ],
   "source": [
    "nome_arquivos        = []\n",
    "tamanho_vocabulario  = []\n",
    "qtd_unk_words        = []\n",
    "probabilidade        = []\n",
    "perplexidade         = []\n",
    "\n",
    "total = len((tokens))\n",
    "for i in arquivos_teste:\n",
    "    print(i)\n",
    "    nome_arquivos.append(i)\n",
    "    \n",
    "    corpus_teste = open_arquivo_teste(i)\n",
    "    search_teste = regex_extracao(corpus_teste)\n",
    "    texto_teste  = pre_processamento(search_teste)\n",
    "    token_teste  = tokenizacao(texto_teste)\n",
    "    token_teste  = append_unk(token_teste)\n",
    "    trigram_teste = generate_ngrams(token_teste, 3)\n",
    "    bigram_teste  = generate_ngrams(token_teste, 2)\n",
    "    umgram_teste  = generate_ngrams(token_teste, 1)\n",
    "    \n",
    "    tamanho_vocabulario.append(len(set(token_teste)))\n",
    "    \n",
    "    qtd_unk_words.append(contagem_unknown(token_teste))\n",
    "    \n",
    "    \n",
    "    metricas = calculo_metricas(trigram_teste, bigram_teste, umgram_teste,total)\n",
    "    probabilidade.append(metricas['prob_total'])\n",
    "    perplexidade.append(metricas['perplexidade'])"
   ]
  },
  {
   "cell_type": "code",
   "execution_count": 52,
   "metadata": {
    "ExecuteTime": {
     "end_time": "2021-08-03T21:38:55.792849Z",
     "start_time": "2021-08-03T21:38:55.772904Z"
    },
    "scrolled": true
   },
   "outputs": [
    {
     "data": {
      "text/plain": [
       "['FSP.940101.sgml',\n",
       " 'FSP.940102.sgml',\n",
       " 'FSP.940103.sgml',\n",
       " 'FSP.940104.sgml',\n",
       " 'FSP.940105.sgml',\n",
       " 'FSP.940106.sgml',\n",
       " 'FSP.940107.sgml',\n",
       " 'FSP.940108.sgml',\n",
       " 'FSP.940109.sgml',\n",
       " 'FSP.940110.sgml',\n",
       " 'FSP.940111.sgml']"
      ]
     },
     "execution_count": 52,
     "metadata": {},
     "output_type": "execute_result"
    }
   ],
   "source": [
    "nome_arquivos"
   ]
  },
  {
   "cell_type": "code",
   "execution_count": 50,
   "metadata": {
    "ExecuteTime": {
     "end_time": "2021-08-03T21:38:35.755897Z",
     "start_time": "2021-08-03T21:38:35.745785Z"
    }
   },
   "outputs": [
    {
     "data": {
      "text/plain": [
       "[8253, 11952, 8279, 8501, 9472, 9399, 9269, 10075, 13337, 9377]"
      ]
     },
     "execution_count": 50,
     "metadata": {},
     "output_type": "execute_result"
    }
   ],
   "source": [
    "tamanho_vocabulario"
   ]
  },
  {
   "cell_type": "code",
   "execution_count": 51,
   "metadata": {
    "ExecuteTime": {
     "end_time": "2021-08-03T21:38:38.622718Z",
     "start_time": "2021-08-03T21:38:38.607580Z"
    }
   },
   "outputs": [
    {
     "data": {
      "text/plain": [
       "[1187, 2074, 1188, 1331, 1566, 1437, 1346, 2014, 2612, 1507]"
      ]
     },
     "execution_count": 51,
     "metadata": {},
     "output_type": "execute_result"
    }
   ],
   "source": [
    "qtd_unk_words"
   ]
  },
  {
   "cell_type": "code",
   "execution_count": 49,
   "metadata": {
    "ExecuteTime": {
     "end_time": "2021-08-03T21:37:52.038859Z",
     "start_time": "2021-08-03T21:37:52.020836Z"
    }
   },
   "outputs": [
    {
     "data": {
      "text/plain": [
       "[0.0, 0.0, 0.0, 0.0, 0.0, 0.0, 0.0, 0.0, 0.0, 0.0]"
      ]
     },
     "execution_count": 49,
     "metadata": {},
     "output_type": "execute_result"
    }
   ],
   "source": [
    "probabilidade"
   ]
  },
  {
   "cell_type": "code",
   "execution_count": 48,
   "metadata": {
    "ExecuteTime": {
     "end_time": "2021-08-03T21:33:57.637659Z",
     "start_time": "2021-08-03T21:33:57.610657Z"
    }
   },
   "outputs": [
    {
     "data": {
      "text/plain": [
       "[inf, inf, inf, inf, inf, inf, inf, inf, inf, inf]"
      ]
     },
     "execution_count": 48,
     "metadata": {},
     "output_type": "execute_result"
    }
   ],
   "source": [
    "perplexidade"
   ]
  }
 ],
 "metadata": {
  "hide_input": false,
  "kernelspec": {
   "display_name": "Python 3",
   "language": "python",
   "name": "python3"
  },
  "language_info": {
   "codemirror_mode": {
    "name": "ipython",
    "version": 3
   },
   "file_extension": ".py",
   "mimetype": "text/x-python",
   "name": "python",
   "nbconvert_exporter": "python",
   "pygments_lexer": "ipython3",
   "version": "3.8.7"
  },
  "latex_envs": {
   "LaTeX_envs_menu_present": true,
   "autoclose": false,
   "autocomplete": true,
   "bibliofile": "biblio.bib",
   "cite_by": "apalike",
   "current_citInitial": 1,
   "eqLabelWithNumbers": true,
   "eqNumInitial": 1,
   "hotkeys": {
    "equation": "Ctrl-E",
    "itemize": "Ctrl-I"
   },
   "labels_anchors": false,
   "latex_user_defs": false,
   "report_style_numbering": false,
   "user_envs_cfg": false
  },
  "toc": {
   "base_numbering": 1,
   "nav_menu": {},
   "number_sections": true,
   "sideBar": true,
   "skip_h1_title": false,
   "title_cell": "Table of Contents",
   "title_sidebar": "Contents",
   "toc_cell": false,
   "toc_position": {
    "height": "calc(100% - 180px)",
    "left": "10px",
    "top": "150px",
    "width": "349.047px"
   },
   "toc_section_display": true,
   "toc_window_display": true
  },
  "varInspector": {
   "cols": {
    "lenName": 16,
    "lenType": 16,
    "lenVar": 40
   },
   "kernels_config": {
    "python": {
     "delete_cmd_postfix": "",
     "delete_cmd_prefix": "del ",
     "library": "var_list.py",
     "varRefreshCmd": "print(var_dic_list())"
    },
    "r": {
     "delete_cmd_postfix": ") ",
     "delete_cmd_prefix": "rm(",
     "library": "var_list.r",
     "varRefreshCmd": "cat(var_dic_list()) "
    }
   },
   "types_to_exclude": [
    "module",
    "function",
    "builtin_function_or_method",
    "instance",
    "_Feature"
   ],
   "window_display": false
  }
 },
 "nbformat": 4,
 "nbformat_minor": 4
}
